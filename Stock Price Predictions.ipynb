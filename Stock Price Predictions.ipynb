{
 "cells": [
  {
   "cell_type": "code",
   "execution_count": 110,
   "id": "eb810355",
   "metadata": {},
   "outputs": [],
   "source": [
    "import yfinance as yf"
   ]
  },
  {
   "cell_type": "code",
   "execution_count": 116,
   "id": "360da779",
   "metadata": {},
   "outputs": [],
   "source": [
    "n500 = yf.Ticker(\"^CRSLDX\")"
   ]
  },
  {
   "cell_type": "code",
   "execution_count": 117,
   "id": "92a1bd9b",
   "metadata": {},
   "outputs": [],
   "source": [
    "n500 = n500.history(period=\"max\")"
   ]
  },
  {
   "cell_type": "code",
   "execution_count": 118,
   "id": "34442d8f",
   "metadata": {},
   "outputs": [
    {
     "data": {
      "text/html": [
       "<div>\n",
       "<style scoped>\n",
       "    .dataframe tbody tr th:only-of-type {\n",
       "        vertical-align: middle;\n",
       "    }\n",
       "\n",
       "    .dataframe tbody tr th {\n",
       "        vertical-align: top;\n",
       "    }\n",
       "\n",
       "    .dataframe thead th {\n",
       "        text-align: right;\n",
       "    }\n",
       "</style>\n",
       "<table border=\"1\" class=\"dataframe\">\n",
       "  <thead>\n",
       "    <tr style=\"text-align: right;\">\n",
       "      <th></th>\n",
       "      <th>Open</th>\n",
       "      <th>High</th>\n",
       "      <th>Low</th>\n",
       "      <th>Close</th>\n",
       "      <th>Volume</th>\n",
       "      <th>Dividends</th>\n",
       "      <th>Stock Splits</th>\n",
       "    </tr>\n",
       "    <tr>\n",
       "      <th>Date</th>\n",
       "      <th></th>\n",
       "      <th></th>\n",
       "      <th></th>\n",
       "      <th></th>\n",
       "      <th></th>\n",
       "      <th></th>\n",
       "      <th></th>\n",
       "    </tr>\n",
       "  </thead>\n",
       "  <tbody>\n",
       "    <tr>\n",
       "      <th>2005-09-26 00:00:00+05:30</th>\n",
       "      <td>2195.747135</td>\n",
       "      <td>2247.497068</td>\n",
       "      <td>2195.747135</td>\n",
       "      <td>2245.396973</td>\n",
       "      <td>0</td>\n",
       "      <td>0.0</td>\n",
       "      <td>0.0</td>\n",
       "    </tr>\n",
       "    <tr>\n",
       "      <th>2005-09-27 00:00:00+05:30</th>\n",
       "      <td>2246.247087</td>\n",
       "      <td>2274.797099</td>\n",
       "      <td>2241.297143</td>\n",
       "      <td>2259.347168</td>\n",
       "      <td>0</td>\n",
       "      <td>0.0</td>\n",
       "      <td>0.0</td>\n",
       "    </tr>\n",
       "    <tr>\n",
       "      <th>2005-09-28 00:00:00+05:30</th>\n",
       "      <td>2261.297144</td>\n",
       "      <td>2282.396970</td>\n",
       "      <td>2250.647011</td>\n",
       "      <td>2280.347168</td>\n",
       "      <td>0</td>\n",
       "      <td>0.0</td>\n",
       "      <td>0.0</td>\n",
       "    </tr>\n",
       "    <tr>\n",
       "      <th>2005-09-29 00:00:00+05:30</th>\n",
       "      <td>2289.547109</td>\n",
       "      <td>2302.297093</td>\n",
       "      <td>2275.547127</td>\n",
       "      <td>2281.747070</td>\n",
       "      <td>0</td>\n",
       "      <td>0.0</td>\n",
       "      <td>0.0</td>\n",
       "    </tr>\n",
       "    <tr>\n",
       "      <th>2005-09-30 00:00:00+05:30</th>\n",
       "      <td>2284.097155</td>\n",
       "      <td>2284.896959</td>\n",
       "      <td>2242.847208</td>\n",
       "      <td>2273.997070</td>\n",
       "      <td>0</td>\n",
       "      <td>0.0</td>\n",
       "      <td>0.0</td>\n",
       "    </tr>\n",
       "    <tr>\n",
       "      <th>...</th>\n",
       "      <td>...</td>\n",
       "      <td>...</td>\n",
       "      <td>...</td>\n",
       "      <td>...</td>\n",
       "      <td>...</td>\n",
       "      <td>...</td>\n",
       "      <td>...</td>\n",
       "    </tr>\n",
       "    <tr>\n",
       "      <th>2023-08-29 00:00:00+05:30</th>\n",
       "      <td>16933.849609</td>\n",
       "      <td>16938.800781</td>\n",
       "      <td>16898.050781</td>\n",
       "      <td>16927.300781</td>\n",
       "      <td>25140300</td>\n",
       "      <td>0.0</td>\n",
       "      <td>0.0</td>\n",
       "    </tr>\n",
       "    <tr>\n",
       "      <th>2023-08-30 00:00:00+05:30</th>\n",
       "      <td>17010.150391</td>\n",
       "      <td>17035.599609</td>\n",
       "      <td>16959.099609</td>\n",
       "      <td>16968.949219</td>\n",
       "      <td>22475100</td>\n",
       "      <td>0.0</td>\n",
       "      <td>0.0</td>\n",
       "    </tr>\n",
       "    <tr>\n",
       "      <th>2023-08-31 00:00:00+05:30</th>\n",
       "      <td>17001.349609</td>\n",
       "      <td>17011.800781</td>\n",
       "      <td>16904.699219</td>\n",
       "      <td>16924.300781</td>\n",
       "      <td>38895000</td>\n",
       "      <td>0.0</td>\n",
       "      <td>0.0</td>\n",
       "    </tr>\n",
       "    <tr>\n",
       "      <th>2023-09-01 00:00:00+05:30</th>\n",
       "      <td>16940.199219</td>\n",
       "      <td>17088.099609</td>\n",
       "      <td>16931.500000</td>\n",
       "      <td>17074.550781</td>\n",
       "      <td>39465900</td>\n",
       "      <td>0.0</td>\n",
       "      <td>0.0</td>\n",
       "    </tr>\n",
       "    <tr>\n",
       "      <th>2023-09-05 00:00:00+05:30</th>\n",
       "      <td>17228.199219</td>\n",
       "      <td>17264.900391</td>\n",
       "      <td>17180.949219</td>\n",
       "      <td>17252.099609</td>\n",
       "      <td>0</td>\n",
       "      <td>0.0</td>\n",
       "      <td>0.0</td>\n",
       "    </tr>\n",
       "  </tbody>\n",
       "</table>\n",
       "<p>4416 rows × 7 columns</p>\n",
       "</div>"
      ],
      "text/plain": [
       "                                   Open          High           Low  \\\n",
       "Date                                                                  \n",
       "2005-09-26 00:00:00+05:30   2195.747135   2247.497068   2195.747135   \n",
       "2005-09-27 00:00:00+05:30   2246.247087   2274.797099   2241.297143   \n",
       "2005-09-28 00:00:00+05:30   2261.297144   2282.396970   2250.647011   \n",
       "2005-09-29 00:00:00+05:30   2289.547109   2302.297093   2275.547127   \n",
       "2005-09-30 00:00:00+05:30   2284.097155   2284.896959   2242.847208   \n",
       "...                                 ...           ...           ...   \n",
       "2023-08-29 00:00:00+05:30  16933.849609  16938.800781  16898.050781   \n",
       "2023-08-30 00:00:00+05:30  17010.150391  17035.599609  16959.099609   \n",
       "2023-08-31 00:00:00+05:30  17001.349609  17011.800781  16904.699219   \n",
       "2023-09-01 00:00:00+05:30  16940.199219  17088.099609  16931.500000   \n",
       "2023-09-05 00:00:00+05:30  17228.199219  17264.900391  17180.949219   \n",
       "\n",
       "                                  Close    Volume  Dividends  Stock Splits  \n",
       "Date                                                                        \n",
       "2005-09-26 00:00:00+05:30   2245.396973         0        0.0           0.0  \n",
       "2005-09-27 00:00:00+05:30   2259.347168         0        0.0           0.0  \n",
       "2005-09-28 00:00:00+05:30   2280.347168         0        0.0           0.0  \n",
       "2005-09-29 00:00:00+05:30   2281.747070         0        0.0           0.0  \n",
       "2005-09-30 00:00:00+05:30   2273.997070         0        0.0           0.0  \n",
       "...                                 ...       ...        ...           ...  \n",
       "2023-08-29 00:00:00+05:30  16927.300781  25140300        0.0           0.0  \n",
       "2023-08-30 00:00:00+05:30  16968.949219  22475100        0.0           0.0  \n",
       "2023-08-31 00:00:00+05:30  16924.300781  38895000        0.0           0.0  \n",
       "2023-09-01 00:00:00+05:30  17074.550781  39465900        0.0           0.0  \n",
       "2023-09-05 00:00:00+05:30  17252.099609         0        0.0           0.0  \n",
       "\n",
       "[4416 rows x 7 columns]"
      ]
     },
     "execution_count": 118,
     "metadata": {},
     "output_type": "execute_result"
    }
   ],
   "source": [
    "n500 "
   ]
  },
  {
   "cell_type": "code",
   "execution_count": 119,
   "id": "4b3d3a57",
   "metadata": {},
   "outputs": [],
   "source": [
    "del n500['Dividends']\n",
    "del n500['Stock Splits']"
   ]
  },
  {
   "cell_type": "code",
   "execution_count": 120,
   "id": "e64707a5",
   "metadata": {},
   "outputs": [
    {
     "data": {
      "text/plain": [
       "DatetimeIndex(['2005-09-26 00:00:00+05:30', '2005-09-27 00:00:00+05:30',\n",
       "               '2005-09-28 00:00:00+05:30', '2005-09-29 00:00:00+05:30',\n",
       "               '2005-09-30 00:00:00+05:30', '2005-10-03 00:00:00+05:30',\n",
       "               '2005-10-04 00:00:00+05:30', '2005-10-05 00:00:00+05:30',\n",
       "               '2005-10-06 00:00:00+05:30', '2005-10-07 00:00:00+05:30',\n",
       "               ...\n",
       "               '2023-08-22 00:00:00+05:30', '2023-08-23 00:00:00+05:30',\n",
       "               '2023-08-24 00:00:00+05:30', '2023-08-25 00:00:00+05:30',\n",
       "               '2023-08-28 00:00:00+05:30', '2023-08-29 00:00:00+05:30',\n",
       "               '2023-08-30 00:00:00+05:30', '2023-08-31 00:00:00+05:30',\n",
       "               '2023-09-01 00:00:00+05:30', '2023-09-05 00:00:00+05:30'],\n",
       "              dtype='datetime64[ns, Asia/Kolkata]', name='Date', length=4416, freq=None)"
      ]
     },
     "execution_count": 120,
     "metadata": {},
     "output_type": "execute_result"
    }
   ],
   "source": [
    "n500.index"
   ]
  },
  {
   "cell_type": "code",
   "execution_count": 121,
   "id": "1dbdf47c",
   "metadata": {},
   "outputs": [
    {
     "data": {
      "text/plain": [
       "<Axes: xlabel='Date'>"
      ]
     },
     "execution_count": 121,
     "metadata": {},
     "output_type": "execute_result"
    },
    {
     "data": {
      "image/png": "[encoded data removed]",
      "text/plain": [
       "<Figure size 640x480 with 1 Axes>"
      ]
     },
     "metadata": {},
     "output_type": "display_data"
    }
   ],
   "source": [
    "n500.plot.line(y=\"Close\", use_index=True)"
   ]
  },
  {
   "cell_type": "code",
   "execution_count": 122,
   "id": "9c18027b",
   "metadata": {},
   "outputs": [
    {
     "data": {
      "text/html": [
       "<div>\n",
       "<style scoped>\n",
       "    .dataframe tbody tr th:only-of-type {\n",
       "        vertical-align: middle;\n",
       "    }\n",
       "\n",
       "    .dataframe tbody tr th {\n",
       "        vertical-align: top;\n",
       "    }\n",
       "\n",
       "    .dataframe thead th {\n",
       "        text-align: right;\n",
       "    }\n",
       "</style>\n",
       "<table border=\"1\" class=\"dataframe\">\n",
       "  <thead>\n",
       "    <tr style=\"text-align: right;\">\n",
       "      <th></th>\n",
       "      <th>Open</th>\n",
       "      <th>High</th>\n",
       "      <th>Low</th>\n",
       "      <th>Close</th>\n",
       "      <th>Volume</th>\n",
       "      <th>tomorrow</th>\n",
       "    </tr>\n",
       "    <tr>\n",
       "      <th>Date</th>\n",
       "      <th></th>\n",
       "      <th></th>\n",
       "      <th></th>\n",
       "      <th></th>\n",
       "      <th></th>\n",
       "      <th></th>\n",
       "    </tr>\n",
       "  </thead>\n",
       "  <tbody>\n",
       "    <tr>\n",
       "      <th>2005-09-26 00:00:00+05:30</th>\n",
       "      <td>2195.747135</td>\n",
       "      <td>2247.497068</td>\n",
       "      <td>2195.747135</td>\n",
       "      <td>2245.396973</td>\n",
       "      <td>0</td>\n",
       "      <td>2259.347168</td>\n",
       "    </tr>\n",
       "    <tr>\n",
       "      <th>2005-09-27 00:00:00+05:30</th>\n",
       "      <td>2246.247087</td>\n",
       "      <td>2274.797099</td>\n",
       "      <td>2241.297143</td>\n",
       "      <td>2259.347168</td>\n",
       "      <td>0</td>\n",
       "      <td>2280.347168</td>\n",
       "    </tr>\n",
       "    <tr>\n",
       "      <th>2005-09-28 00:00:00+05:30</th>\n",
       "      <td>2261.297144</td>\n",
       "      <td>2282.396970</td>\n",
       "      <td>2250.647011</td>\n",
       "      <td>2280.347168</td>\n",
       "      <td>0</td>\n",
       "      <td>2281.747070</td>\n",
       "    </tr>\n",
       "    <tr>\n",
       "      <th>2005-09-29 00:00:00+05:30</th>\n",
       "      <td>2289.547109</td>\n",
       "      <td>2302.297093</td>\n",
       "      <td>2275.547127</td>\n",
       "      <td>2281.747070</td>\n",
       "      <td>0</td>\n",
       "      <td>2273.997070</td>\n",
       "    </tr>\n",
       "    <tr>\n",
       "      <th>2005-09-30 00:00:00+05:30</th>\n",
       "      <td>2284.097155</td>\n",
       "      <td>2284.896959</td>\n",
       "      <td>2242.847208</td>\n",
       "      <td>2273.997070</td>\n",
       "      <td>0</td>\n",
       "      <td>2299.447021</td>\n",
       "    </tr>\n",
       "    <tr>\n",
       "      <th>...</th>\n",
       "      <td>...</td>\n",
       "      <td>...</td>\n",
       "      <td>...</td>\n",
       "      <td>...</td>\n",
       "      <td>...</td>\n",
       "      <td>...</td>\n",
       "    </tr>\n",
       "    <tr>\n",
       "      <th>2023-08-29 00:00:00+05:30</th>\n",
       "      <td>16933.849609</td>\n",
       "      <td>16938.800781</td>\n",
       "      <td>16898.050781</td>\n",
       "      <td>16927.300781</td>\n",
       "      <td>25140300</td>\n",
       "      <td>16968.949219</td>\n",
       "    </tr>\n",
       "    <tr>\n",
       "      <th>2023-08-30 00:00:00+05:30</th>\n",
       "      <td>17010.150391</td>\n",
       "      <td>17035.599609</td>\n",
       "      <td>16959.099609</td>\n",
       "      <td>16968.949219</td>\n",
       "      <td>22475100</td>\n",
       "      <td>16924.300781</td>\n",
       "    </tr>\n",
       "    <tr>\n",
       "      <th>2023-08-31 00:00:00+05:30</th>\n",
       "      <td>17001.349609</td>\n",
       "      <td>17011.800781</td>\n",
       "      <td>16904.699219</td>\n",
       "      <td>16924.300781</td>\n",
       "      <td>38895000</td>\n",
       "      <td>17074.550781</td>\n",
       "    </tr>\n",
       "    <tr>\n",
       "      <th>2023-09-01 00:00:00+05:30</th>\n",
       "      <td>16940.199219</td>\n",
       "      <td>17088.099609</td>\n",
       "      <td>16931.500000</td>\n",
       "      <td>17074.550781</td>\n",
       "      <td>39465900</td>\n",
       "      <td>17252.099609</td>\n",
       "    </tr>\n",
       "    <tr>\n",
       "      <th>2023-09-05 00:00:00+05:30</th>\n",
       "      <td>17228.199219</td>\n",
       "      <td>17264.900391</td>\n",
       "      <td>17180.949219</td>\n",
       "      <td>17252.099609</td>\n",
       "      <td>0</td>\n",
       "      <td>NaN</td>\n",
       "    </tr>\n",
       "  </tbody>\n",
       "</table>\n",
       "<p>4416 rows × 6 columns</p>\n",
       "</div>"
      ],
      "text/plain": [
       "                                   Open          High           Low  \\\n",
       "Date                                                                  \n",
       "2005-09-26 00:00:00+05:30   2195.747135   2247.497068   2195.747135   \n",
       "2005-09-27 00:00:00+05:30   2246.247087   2274.797099   2241.297143   \n",
       "2005-09-28 00:00:00+05:30   2261.297144   2282.396970   2250.647011   \n",
       "2005-09-29 00:00:00+05:30   2289.547109   2302.297093   2275.547127   \n",
       "2005-09-30 00:00:00+05:30   2284.097155   2284.896959   2242.847208   \n",
       "...                                 ...           ...           ...   \n",
       "2023-08-29 00:00:00+05:30  16933.849609  16938.800781  16898.050781   \n",
       "2023-08-30 00:00:00+05:30  17010.150391  17035.599609  16959.099609   \n",
       "2023-08-31 00:00:00+05:30  17001.349609  17011.800781  16904.699219   \n",
       "2023-09-01 00:00:00+05:30  16940.199219  17088.099609  16931.500000   \n",
       "2023-09-05 00:00:00+05:30  17228.199219  17264.900391  17180.949219   \n",
       "\n",
       "                                  Close    Volume      tomorrow  \n",
       "Date                                                             \n",
       "2005-09-26 00:00:00+05:30   2245.396973         0   2259.347168  \n",
       "2005-09-27 00:00:00+05:30   2259.347168         0   2280.347168  \n",
       "2005-09-28 00:00:00+05:30   2280.347168         0   2281.747070  \n",
       "2005-09-29 00:00:00+05:30   2281.747070         0   2273.997070  \n",
       "2005-09-30 00:00:00+05:30   2273.997070         0   2299.447021  \n",
       "...                                 ...       ...           ...  \n",
       "2023-08-29 00:00:00+05:30  16927.300781  25140300  16968.949219  \n",
       "2023-08-30 00:00:00+05:30  16968.949219  22475100  16924.300781  \n",
       "2023-08-31 00:00:00+05:30  16924.300781  38895000  17074.550781  \n",
       "2023-09-01 00:00:00+05:30  17074.550781  39465900  17252.099609  \n",
       "2023-09-05 00:00:00+05:30  17252.099609         0           NaN  \n",
       "\n",
       "[4416 rows x 6 columns]"
      ]
     },
     "execution_count": 122,
     "metadata": {},
     "output_type": "execute_result"
    }
   ],
   "source": [
    "n500['tomorrow'] = n500['Close'].shift(-1)\n",
    "n500"
   ]
  },
  {
   "cell_type": "code",
   "execution_count": 123,
   "id": "ee14202b",
   "metadata": {},
   "outputs": [
    {
     "data": {
      "text/html": [
       "<div>\n",
       "<style scoped>\n",
       "    .dataframe tbody tr th:only-of-type {\n",
       "        vertical-align: middle;\n",
       "    }\n",
       "\n",
       "    .dataframe tbody tr th {\n",
       "        vertical-align: top;\n",
       "    }\n",
       "\n",
       "    .dataframe thead th {\n",
       "        text-align: right;\n",
       "    }\n",
       "</style>\n",
       "<table border=\"1\" class=\"dataframe\">\n",
       "  <thead>\n",
       "    <tr style=\"text-align: right;\">\n",
       "      <th></th>\n",
       "      <th>Open</th>\n",
       "      <th>High</th>\n",
       "      <th>Low</th>\n",
       "      <th>Close</th>\n",
       "      <th>Volume</th>\n",
       "      <th>tomorrow</th>\n",
       "      <th>Targets</th>\n",
       "    </tr>\n",
       "    <tr>\n",
       "      <th>Date</th>\n",
       "      <th></th>\n",
       "      <th></th>\n",
       "      <th></th>\n",
       "      <th></th>\n",
       "      <th></th>\n",
       "      <th></th>\n",
       "      <th></th>\n",
       "    </tr>\n",
       "  </thead>\n",
       "  <tbody>\n",
       "    <tr>\n",
       "      <th>2005-09-26 00:00:00+05:30</th>\n",
       "      <td>2195.747135</td>\n",
       "      <td>2247.497068</td>\n",
       "      <td>2195.747135</td>\n",
       "      <td>2245.396973</td>\n",
       "      <td>0</td>\n",
       "      <td>2259.347168</td>\n",
       "      <td>1</td>\n",
       "    </tr>\n",
       "    <tr>\n",
       "      <th>2005-09-27 00:00:00+05:30</th>\n",
       "      <td>2246.247087</td>\n",
       "      <td>2274.797099</td>\n",
       "      <td>2241.297143</td>\n",
       "      <td>2259.347168</td>\n",
       "      <td>0</td>\n",
       "      <td>2280.347168</td>\n",
       "      <td>1</td>\n",
       "    </tr>\n",
       "    <tr>\n",
       "      <th>2005-09-28 00:00:00+05:30</th>\n",
       "      <td>2261.297144</td>\n",
       "      <td>2282.396970</td>\n",
       "      <td>2250.647011</td>\n",
       "      <td>2280.347168</td>\n",
       "      <td>0</td>\n",
       "      <td>2281.747070</td>\n",
       "      <td>1</td>\n",
       "    </tr>\n",
       "    <tr>\n",
       "      <th>2005-09-29 00:00:00+05:30</th>\n",
       "      <td>2289.547109</td>\n",
       "      <td>2302.297093</td>\n",
       "      <td>2275.547127</td>\n",
       "      <td>2281.747070</td>\n",
       "      <td>0</td>\n",
       "      <td>2273.997070</td>\n",
       "      <td>0</td>\n",
       "    </tr>\n",
       "    <tr>\n",
       "      <th>2005-09-30 00:00:00+05:30</th>\n",
       "      <td>2284.097155</td>\n",
       "      <td>2284.896959</td>\n",
       "      <td>2242.847208</td>\n",
       "      <td>2273.997070</td>\n",
       "      <td>0</td>\n",
       "      <td>2299.447021</td>\n",
       "      <td>1</td>\n",
       "    </tr>\n",
       "    <tr>\n",
       "      <th>...</th>\n",
       "      <td>...</td>\n",
       "      <td>...</td>\n",
       "      <td>...</td>\n",
       "      <td>...</td>\n",
       "      <td>...</td>\n",
       "      <td>...</td>\n",
       "      <td>...</td>\n",
       "    </tr>\n",
       "    <tr>\n",
       "      <th>2023-08-29 00:00:00+05:30</th>\n",
       "      <td>16933.849609</td>\n",
       "      <td>16938.800781</td>\n",
       "      <td>16898.050781</td>\n",
       "      <td>16927.300781</td>\n",
       "      <td>25140300</td>\n",
       "      <td>16968.949219</td>\n",
       "      <td>1</td>\n",
       "    </tr>\n",
       "    <tr>\n",
       "      <th>2023-08-30 00:00:00+05:30</th>\n",
       "      <td>17010.150391</td>\n",
       "      <td>17035.599609</td>\n",
       "      <td>16959.099609</td>\n",
       "      <td>16968.949219</td>\n",
       "      <td>22475100</td>\n",
       "      <td>16924.300781</td>\n",
       "      <td>0</td>\n",
       "    </tr>\n",
       "    <tr>\n",
       "      <th>2023-08-31 00:00:00+05:30</th>\n",
       "      <td>17001.349609</td>\n",
       "      <td>17011.800781</td>\n",
       "      <td>16904.699219</td>\n",
       "      <td>16924.300781</td>\n",
       "      <td>38895000</td>\n",
       "      <td>17074.550781</td>\n",
       "      <td>1</td>\n",
       "    </tr>\n",
       "    <tr>\n",
       "      <th>2023-09-01 00:00:00+05:30</th>\n",
       "      <td>16940.199219</td>\n",
       "      <td>17088.099609</td>\n",
       "      <td>16931.500000</td>\n",
       "      <td>17074.550781</td>\n",
       "      <td>39465900</td>\n",
       "      <td>17252.099609</td>\n",
       "      <td>1</td>\n",
       "    </tr>\n",
       "    <tr>\n",
       "      <th>2023-09-05 00:00:00+05:30</th>\n",
       "      <td>17228.199219</td>\n",
       "      <td>17264.900391</td>\n",
       "      <td>17180.949219</td>\n",
       "      <td>17252.099609</td>\n",
       "      <td>0</td>\n",
       "      <td>NaN</td>\n",
       "      <td>0</td>\n",
       "    </tr>\n",
       "  </tbody>\n",
       "</table>\n",
       "<p>4416 rows × 7 columns</p>\n",
       "</div>"
      ],
      "text/plain": [
       "                                   Open          High           Low  \\\n",
       "Date                                                                  \n",
       "2005-09-26 00:00:00+05:30   2195.747135   2247.497068   2195.747135   \n",
       "2005-09-27 00:00:00+05:30   2246.247087   2274.797099   2241.297143   \n",
       "2005-09-28 00:00:00+05:30   2261.297144   2282.396970   2250.647011   \n",
       "2005-09-29 00:00:00+05:30   2289.547109   2302.297093   2275.547127   \n",
       "2005-09-30 00:00:00+05:30   2284.097155   2284.896959   2242.847208   \n",
       "...                                 ...           ...           ...   \n",
       "2023-08-29 00:00:00+05:30  16933.849609  16938.800781  16898.050781   \n",
       "2023-08-30 00:00:00+05:30  17010.150391  17035.599609  16959.099609   \n",
       "2023-08-31 00:00:00+05:30  17001.349609  17011.800781  16904.699219   \n",
       "2023-09-01 00:00:00+05:30  16940.199219  17088.099609  16931.500000   \n",
       "2023-09-05 00:00:00+05:30  17228.199219  17264.900391  17180.949219   \n",
       "\n",
       "                                  Close    Volume      tomorrow  Targets  \n",
       "Date                                                                      \n",
       "2005-09-26 00:00:00+05:30   2245.396973         0   2259.347168        1  \n",
       "2005-09-27 00:00:00+05:30   2259.347168         0   2280.347168        1  \n",
       "2005-09-28 00:00:00+05:30   2280.347168         0   2281.747070        1  \n",
       "2005-09-29 00:00:00+05:30   2281.747070         0   2273.997070        0  \n",
       "2005-09-30 00:00:00+05:30   2273.997070         0   2299.447021        1  \n",
       "...                                 ...       ...           ...      ...  \n",
       "2023-08-29 00:00:00+05:30  16927.300781  25140300  16968.949219        1  \n",
       "2023-08-30 00:00:00+05:30  16968.949219  22475100  16924.300781        0  \n",
       "2023-08-31 00:00:00+05:30  16924.300781  38895000  17074.550781        1  \n",
       "2023-09-01 00:00:00+05:30  17074.550781  39465900  17252.099609        1  \n",
       "2023-09-05 00:00:00+05:30  17252.099609         0           NaN        0  \n",
       "\n",
       "[4416 rows x 7 columns]"
      ]
     },
     "execution_count": 123,
     "metadata": {},
     "output_type": "execute_result"
    }
   ],
   "source": [
    "n500['Targets'] = (n500['tomorrow'] > n500['Close']).astype(int)\n",
    "n500"
   ]
  },
  {
   "cell_type": "code",
   "execution_count": 124,
   "id": "26c66aea",
   "metadata": {},
   "outputs": [
    {
     "data": {
      "text/html": [
       "<style>#sk-container-id-12 {color: black;}#sk-container-id-12 pre{padding: 0;}#sk-container-id-12 div.sk-toggleable {background-color: white;}#sk-container-id-12 label.sk-toggleable__label {cursor: pointer;display: block;width: 100%;margin-bottom: 0;padding: 0.3em;box-sizing: border-box;text-align: center;}#sk-container-id-12 label.sk-toggleable__label-arrow:before {content: \"▸\";float: left;margin-right: 0.25em;color: #696969;}#sk-container-id-12 label.sk-toggleable__label-arrow:hover:before {color: black;}#sk-container-id-12 div.sk-estimator:hover label.sk-toggleable__label-arrow:before {color: black;}#sk-container-id-12 div.sk-toggleable__content {max-height: 0;max-width: 0;overflow: hidden;text-align: left;background-color: #f0f8ff;}#sk-container-id-12 div.sk-toggleable__content pre {margin: 0.2em;color: black;border-radius: 0.25em;background-color: #f0f8ff;}#sk-container-id-12 input.sk-toggleable__control:checked~div.sk-toggleable__content {max-height: 200px;max-width: 100%;overflow: auto;}#sk-container-id-12 input.sk-toggleable__control:checked~label.sk-toggleable__label-arrow:before {content: \"▾\";}#sk-container-id-12 div.sk-estimator input.sk-toggleable__control:checked~label.sk-toggleable__label {background-color: #d4ebff;}#sk-container-id-12 div.sk-label input.sk-toggleable__control:checked~label.sk-toggleable__label {background-color: #d4ebff;}#sk-container-id-12 input.sk-hidden--visually {border: 0;clip: rect(1px 1px 1px 1px);clip: rect(1px, 1px, 1px, 1px);height: 1px;margin: -1px;overflow: hidden;padding: 0;position: absolute;width: 1px;}#sk-container-id-12 div.sk-estimator {font-family: monospace;background-color: #f0f8ff;border: 1px dotted black;border-radius: 0.25em;box-sizing: border-box;margin-bottom: 0.5em;}#sk-container-id-12 div.sk-estimator:hover {background-color: #d4ebff;}#sk-container-id-12 div.sk-parallel-item::after {content: \"\";width: 100%;border-bottom: 1px solid gray;flex-grow: 1;}#sk-container-id-12 div.sk-label:hover label.sk-toggleable__label {background-color: #d4ebff;}#sk-container-id-12 div.sk-serial::before {content: \"\";position: absolute;border-left: 1px solid gray;box-sizing: border-box;top: 0;bottom: 0;left: 50%;z-index: 0;}#sk-container-id-12 div.sk-serial {display: flex;flex-direction: column;align-items: center;background-color: white;padding-right: 0.2em;padding-left: 0.2em;position: relative;}#sk-container-id-12 div.sk-item {position: relative;z-index: 1;}#sk-container-id-12 div.sk-parallel {display: flex;align-items: stretch;justify-content: center;background-color: white;position: relative;}#sk-container-id-12 div.sk-item::before, #sk-container-id-12 div.sk-parallel-item::before {content: \"\";position: absolute;border-left: 1px solid gray;box-sizing: border-box;top: 0;bottom: 0;left: 50%;z-index: -1;}#sk-container-id-12 div.sk-parallel-item {display: flex;flex-direction: column;z-index: 1;position: relative;background-color: white;}#sk-container-id-12 div.sk-parallel-item:first-child::after {align-self: flex-end;width: 50%;}#sk-container-id-12 div.sk-parallel-item:last-child::after {align-self: flex-start;width: 50%;}#sk-container-id-12 div.sk-parallel-item:only-child::after {width: 0;}#sk-container-id-12 div.sk-dashed-wrapped {border: 1px dashed gray;margin: 0 0.4em 0.5em 0.4em;box-sizing: border-box;padding-bottom: 0.4em;background-color: white;}#sk-container-id-12 div.sk-label label {font-family: monospace;font-weight: bold;display: inline-block;line-height: 1.2em;}#sk-container-id-12 div.sk-label-container {text-align: center;}#sk-container-id-12 div.sk-container {/* jupyter's `normalize.less` sets `[hidden] { display: none; }` but bootstrap.min.css set `[hidden] { display: none !important; }` so we also need the `!important` here to be able to override the default hidden behavior on the sphinx rendered scikit-learn.org. See: https://github.com/scikit-learn/scikit-learn/issues/21755 */display: inline-block !important;position: relative;}#sk-container-id-12 div.sk-text-repr-fallback {display: none;}</style><div id=\"sk-container-id-12\" class=\"sk-top-container\"><div class=\"sk-text-repr-fallback\"><pre>RandomForestClassifier(min_samples_split=100, n_estimators=200, random_state=1)</pre><b>In a Jupyter environment, please rerun this cell to show the HTML representation or trust the notebook. <br />On GitHub, the HTML representation is unable to render, please try loading this page with nbviewer.org.</b></div><div class=\"sk-container\" hidden><div class=\"sk-item\"><div class=\"sk-estimator sk-toggleable\"><input class=\"sk-toggleable__control sk-hidden--visually\" id=\"sk-estimator-id-12\" type=\"checkbox\" checked><label for=\"sk-estimator-id-12\" class=\"sk-toggleable__label sk-toggleable__label-arrow\">RandomForestClassifier</label><div class=\"sk-toggleable__content\"><pre>RandomForestClassifier(min_samples_split=100, n_estimators=200, random_state=1)</pre></div></div></div></div></div>"
      ],
      "text/plain": [
       "RandomForestClassifier(min_samples_split=100, n_estimators=200, random_state=1)"
      ]
     },
     "execution_count": 124,
     "metadata": {},
     "output_type": "execute_result"
    }
   ],
   "source": [
    "from sklearn.ensemble import RandomForestClassifier\n",
    "\n",
    "model = RandomForestClassifier(n_estimators=200, min_samples_split=100, random_state=1)\n",
    "\n",
    "train = n500.iloc[:-100]\n",
    "test = n500.iloc[-100:]\n",
    "predictors = ['Open','High','Low','Close','Volume']\n",
    "model.fit(train[predictors], train['Targets'])"
   ]
  },
  {
   "cell_type": "code",
   "execution_count": 125,
   "id": "5547f096",
   "metadata": {},
   "outputs": [],
   "source": [
    "from sklearn.metrics import precision_score\n",
    "\n",
    "preds = model.predict(test[predictors])"
   ]
  },
  {
   "cell_type": "code",
   "execution_count": 126,
   "id": "0ee8d11d",
   "metadata": {},
   "outputs": [
    {
     "data": {
      "text/plain": [
       "Date\n",
       "2023-04-12 00:00:00+05:30    0\n",
       "2023-04-13 00:00:00+05:30    1\n",
       "2023-04-17 00:00:00+05:30    0\n",
       "2023-04-18 00:00:00+05:30    0\n",
       "2023-04-19 00:00:00+05:30    1\n",
       "                            ..\n",
       "2023-08-29 00:00:00+05:30    0\n",
       "2023-08-30 00:00:00+05:30    0\n",
       "2023-08-31 00:00:00+05:30    0\n",
       "2023-09-01 00:00:00+05:30    0\n",
       "2023-09-05 00:00:00+05:30    0\n",
       "Length: 100, dtype: int32"
      ]
     },
     "execution_count": 126,
     "metadata": {},
     "output_type": "execute_result"
    }
   ],
   "source": [
    "import pandas as pd\n",
    "\n",
    "preds = pd.Series(preds, index = test.index)\n",
    "preds"
   ]
  },
  {
   "cell_type": "code",
   "execution_count": 127,
   "id": "63835685",
   "metadata": {},
   "outputs": [
    {
     "data": {
      "text/plain": [
       "0.7"
      ]
     },
     "execution_count": 127,
     "metadata": {},
     "output_type": "execute_result"
    }
   ],
   "source": [
    "precision_score(test['Targets'], preds)"
   ]
  },
  {
   "cell_type": "code",
   "execution_count": 128,
   "id": "a3f2f1d2",
   "metadata": {},
   "outputs": [
    {
     "data": {
      "text/plain": [
       "<Axes: xlabel='Date'>"
      ]
     },
     "execution_count": 128,
     "metadata": {},
     "output_type": "execute_result"
    },
    {
     "data": {
      "image/png": "[encoded data removed]",
      "text/plain": [
       "<Figure size 640x480 with 1 Axes>"
      ]
     },
     "metadata": {},
     "output_type": "display_data"
    }
   ],
   "source": [
    "combined = pd.concat([test['Targets'], preds], axis =1)\n",
    "combined.plot()"
   ]
  },
  {
   "cell_type": "code",
   "execution_count": 129,
   "id": "d0055725",
   "metadata": {},
   "outputs": [],
   "source": [
    "def predict(train, test, predictors, model):\n",
    "    model.fit(train[predictors], train['Targets'])\n",
    "    preds = model.predict(test[predictors])\n",
    "    preds = pd.Series(preds, index = test.index, name = \"Predictions\")\n",
    "    combined = pd.concat([test['Targets'], preds], axis =1)\n",
    "    return combined"
   ]
  },
  {
   "cell_type": "code",
   "execution_count": 130,
   "id": "47d9f180",
   "metadata": {},
   "outputs": [],
   "source": [
    "def backtest(data, model, predictors, start = 1250, step= 250):\n",
    "    all_predictions =[]\n",
    "    \n",
    "    for i in range(start, data.shape[0], step):\n",
    "        train= data.iloc[0:i].copy()\n",
    "        test= data.iloc[i:(i+step)].copy()\n",
    "        prediction = predict(train,test,predictors,model)\n",
    "        all_predictions.append(prediction)\n",
    "    return pd.concat(all_predictions)"
   ]
  },
  {
   "cell_type": "code",
   "execution_count": 131,
   "id": "35ea7c12",
   "metadata": {},
   "outputs": [],
   "source": [
    "predictions = backtest(n500,model,predictors)"
   ]
  },
  {
   "cell_type": "code",
   "execution_count": 132,
   "id": "4d022456",
   "metadata": {},
   "outputs": [
    {
     "data": {
      "text/plain": [
       "1    1844\n",
       "0    1322\n",
       "Name: Predictions, dtype: int64"
      ]
     },
     "execution_count": 132,
     "metadata": {},
     "output_type": "execute_result"
    }
   ],
   "source": [
    "predictions['Predictions'].value_counts()"
   ]
  },
  {
   "cell_type": "code",
   "execution_count": 133,
   "id": "75f2925a",
   "metadata": {},
   "outputs": [
    {
     "data": {
      "text/plain": [
       "0.5466377440347071"
      ]
     },
     "execution_count": 133,
     "metadata": {},
     "output_type": "execute_result"
    }
   ],
   "source": [
    "precision_score(predictions['Targets'],predictions['Predictions'])"
   ]
  },
  {
   "cell_type": "code",
   "execution_count": 134,
   "id": "b62171c7",
   "metadata": {},
   "outputs": [
    {
     "data": {
      "text/plain": [
       "1    0.546431\n",
       "0    0.453569\n",
       "Name: Targets, dtype: float64"
      ]
     },
     "execution_count": 134,
     "metadata": {},
     "output_type": "execute_result"
    }
   ],
   "source": [
    "predictions['Targets'].value_counts() / predictions.shape[0]"
   ]
  },
  {
   "cell_type": "code",
   "execution_count": 135,
   "id": "be4d1fe4",
   "metadata": {},
   "outputs": [],
   "source": [
    "horizons = [2,5,60,250,1000]\n",
    "new_predictors =[]\n",
    "\n",
    "for horizon in horizons:\n",
    "    rolling_averages = n500.rolling(horizon).mean()\n",
    "    \n",
    "    ratio_column = f\"Close_ratio_{horizon}\"\n",
    "    n500[ratio_column] = n500['Close'] / rolling_averages['Close']\n",
    "    \n",
    "    trend_column = f\"Trend_{horizon}\"\n",
    "    n500[trend_column] = n500.shift(1).rolling(horizon).sum()['Targets']\n",
    "    \n",
    "    new_predictors += [ratio_column,trend_column]"
   ]
  },
  {
   "cell_type": "code",
   "execution_count": 136,
   "id": "30664e66",
   "metadata": {},
   "outputs": [],
   "source": [
    "n500 = n500.dropna()"
   ]
  },
  {
   "cell_type": "code",
   "execution_count": 137,
   "id": "acc0a8e0",
   "metadata": {},
   "outputs": [],
   "source": [
    "model = RandomForestClassifier(n_estimators=300, min_samples_split=50, random_state=1)"
   ]
  },
  {
   "cell_type": "code",
   "execution_count": 138,
   "id": "c993338b",
   "metadata": {},
   "outputs": [],
   "source": [
    "def predict(train, test, predictors, model):\n",
    "    model.fit(train[predictors], train['Targets'])\n",
    "    preds = model.predict_proba(test[predictors])[:,1]\n",
    "    preds[preds >= .6] = 1\n",
    "    preds[preds < .6] = 0\n",
    "    preds = pd.Series(preds, index = test.index, name = \"Predictions\")\n",
    "    combined = pd.concat([test['Targets'], preds], axis =1)\n",
    "    return combined"
   ]
  },
  {
   "cell_type": "code",
   "execution_count": 139,
   "id": "8530184f",
   "metadata": {},
   "outputs": [],
   "source": [
    "predictions = backtest(n500,model,new_predictors)"
   ]
  },
  {
   "cell_type": "code",
   "execution_count": 140,
   "id": "9c67374b",
   "metadata": {},
   "outputs": [
    {
     "data": {
      "text/plain": [
       "0.0    1807\n",
       "1.0     358\n",
       "Name: Predictions, dtype: int64"
      ]
     },
     "execution_count": 140,
     "metadata": {},
     "output_type": "execute_result"
    }
   ],
   "source": [
    "predictions['Predictions'].value_counts()"
   ]
  },
  {
   "cell_type": "code",
   "execution_count": 141,
   "id": "869fdef0",
   "metadata": {},
   "outputs": [
    {
     "data": {
      "text/plain": [
       "0.6452513966480447"
      ]
     },
     "execution_count": 141,
     "metadata": {},
     "output_type": "execute_result"
    }
   ],
   "source": [
    "precision_score(predictions['Targets'],predictions['Predictions'])"
   ]
  },
  {
   "cell_type": "code",
   "execution_count": null,
   "id": "9bf612ad",
   "metadata": {},
   "outputs": [],
   "source": []
  }
 ],
 "metadata": {
  "kernelspec": {
   "display_name": "Python 3 (ipykernel)",
   "language": "python",
   "name": "python3"
  },
  "language_info": {
   "codemirror_mode": {
    "name": "ipython",
    "version": 3
   },
   "file_extension": ".py",
   "mimetype": "text/x-python",
   "name": "python",
   "nbconvert_exporter": "python",
   "pygments_lexer": "ipython3",
   "version": "3.10.9"
  }
 },
 "nbformat": 4,
 "nbformat_minor": 5
}
